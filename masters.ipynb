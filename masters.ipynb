{
 "cells": [
  {
   "cell_type": "code",
   "execution_count": 1,
   "metadata": {},
   "outputs": [],
   "source": [
    "import requests\n",
    "import pandas as pd"
   ]
  },
  {
   "cell_type": "code",
   "execution_count": 6,
   "metadata": {},
   "outputs": [],
   "source": [
    "url = \"https://site.web.api.espn.com/apis/site/v2/sports/golf/leaderboard?league=pga\"\n",
    "\n",
    "headers = {\n",
    "    \"User-Agent\": \"Mozilla/5.0 (Windows NT 10.0; Win64; x64) AppleWebKit/537.36 (KHTML, like Gecko) Chrome/58.0.3029.110 Safari/537.3\"\n",
    "}\n",
    "\n",
    "response = requests.get(url, headers=headers)\n",
    "\n",
    "if response.status_code == 200:\n",
    "    data = response.json()\n",
    "    tournament = data['events'][0]['name']\n",
    "    leaderboard = data['events'][0]['competitions'][0]['competitors']\n",
    "    player_data = []\n",
    "    for player in leaderboard:\n",
    "        name = player['athlete']['displayName']\n",
    "        # Fix names \n",
    "        if name == 'Byeong-Hun An': \n",
    "            name = 'Byeong Hun An'\n",
    "        elif name == 'Cameron Davis': \n",
    "            name = 'Cam Davis'\n",
    "        elif name == 'Ludvig Aberg': \n",
    "            name = 'Ludvig Åberg'\n",
    "        elif name == 'Nicolai Højgaard': \n",
    "            name = 'Nicolai Hojgaard'\n",
    "        elif name == 'Thorbjorn Olesen': \n",
    "            name = 'Thorbjørn Olesen'\n",
    "        \n",
    "        position = player['status']['period']\n",
    "        score = player['score']['displayValue']\n",
    "        player_data.append({'golfer_name': name, 'score': score})\n",
    "    \n",
    "    # df = pd.DataFrame(player_data)\n",
    "    # df['score'] = df['score'].astype(int)"
   ]
  },
  {
   "cell_type": "code",
   "execution_count": 7,
   "metadata": {},
   "outputs": [
    {
     "data": {
      "text/plain": [
       "'E'"
      ]
     },
     "execution_count": 7,
     "metadata": {},
     "output_type": "execute_result"
    }
   ],
   "source": [
    "score"
   ]
  },
  {
   "cell_type": "code",
   "execution_count": null,
   "metadata": {},
   "outputs": [],
   "source": []
  }
 ],
 "metadata": {
  "kernelspec": {
   "display_name": "Python 3",
   "language": "python",
   "name": "python3"
  },
  "language_info": {
   "codemirror_mode": {
    "name": "ipython",
    "version": 3
   },
   "file_extension": ".py",
   "mimetype": "text/x-python",
   "name": "python",
   "nbconvert_exporter": "python",
   "pygments_lexer": "ipython3",
   "version": "3.10.11"
  }
 },
 "nbformat": 4,
 "nbformat_minor": 2
}
